{
 "cells": [
  {
   "cell_type": "markdown",
   "id": "8b69435b-9edc-4f9f-ac42-b3c98134279c",
   "metadata": {},
   "source": [
    "### class"
   ]
  },
  {
   "cell_type": "code",
   "execution_count": 1,
   "id": "0d8e3223-1b6f-4368-8945-ca4eb2ecd1bc",
   "metadata": {},
   "outputs": [],
   "source": [
    "class xyz:\n",
    "    p=20    # global variable\n",
    "    q=30\n",
    "    def fun1(self):  # method\n",
    "        print('The values of p:',self.p)\n",
    "    def fun2(self,b):  # b is local variable\n",
    "        m=b*self.p\n",
    "        return m\n",
    "object=xyz()            "
   ]
  },
  {
   "cell_type": "code",
   "execution_count": 3,
   "id": "15f119f2-5bb9-45bb-b1d4-b7617ab261ac",
   "metadata": {},
   "outputs": [
    {
     "name": "stdout",
     "output_type": "stream",
     "text": [
      "The values of p: 20\n"
     ]
    }
   ],
   "source": [
    "object.fun1()"
   ]
  },
  {
   "cell_type": "code",
   "execution_count": 7,
   "id": "ac87f0b2-f561-4043-9ea5-48946cc9f710",
   "metadata": {},
   "outputs": [
    {
     "data": {
      "text/plain": [
       "100"
      ]
     },
     "execution_count": 7,
     "metadata": {},
     "output_type": "execute_result"
    }
   ],
   "source": [
    "object.fun2(5)"
   ]
  },
  {
   "cell_type": "code",
   "execution_count": 9,
   "id": "4c8a6ddf-2de8-46c5-a3d3-d4041fd8f48c",
   "metadata": {},
   "outputs": [],
   "source": [
    "class Dog:\n",
    "    def __init__(self,name):\n",
    "        self.name=name\n",
    "    def talk(self):\n",
    "        print('Woof !')\n",
    "    def printname(self):\n",
    "        print('My name is:{}'.format(self.name))\n",
    "    \n",
    "    "
   ]
  },
  {
   "cell_type": "code",
   "execution_count": 11,
   "id": "4c2558de-2ed9-43da-b2c3-fc6598cff74b",
   "metadata": {},
   "outputs": [
    {
     "name": "stdout",
     "output_type": "stream",
     "text": [
      "Woof !\n"
     ]
    }
   ],
   "source": [
    "dog=Dog('charlie')\n",
    "dog.talk()"
   ]
  },
  {
   "cell_type": "code",
   "execution_count": 13,
   "id": "6b495595-0007-4c4b-9fd4-6cf2fa5837c4",
   "metadata": {},
   "outputs": [
    {
     "name": "stdout",
     "output_type": "stream",
     "text": [
      "My name is:charlie\n"
     ]
    }
   ],
   "source": [
    "dog.printname()"
   ]
  },
  {
   "cell_type": "code",
   "execution_count": 25,
   "id": "5de4a800-02a2-4134-96e2-1ea95fdab6d0",
   "metadata": {},
   "outputs": [],
   "source": [
    "class faculty:\n",
    "    def __init__(self,id,name,salary):\n",
    "        self.id=id\n",
    "        self.name=name\n",
    "        self.salary=salary\n",
    "    def show(self):\n",
    "        print('faculty id:',self.id)\n",
    "        print('faculty name:',self.name)\n",
    "        print('faculty salary:',self.salary)\n",
    "        "
   ]
  },
  {
   "cell_type": "code",
   "execution_count": 27,
   "id": "543a3c41-be16-44f1-b9e6-17bdb440c216",
   "metadata": {},
   "outputs": [],
   "source": [
    "info=faculty(5,'kumar',25000)"
   ]
  },
  {
   "cell_type": "code",
   "execution_count": 29,
   "id": "8b66ac44-a2fb-4253-9d28-9822260de7a9",
   "metadata": {},
   "outputs": [
    {
     "name": "stdout",
     "output_type": "stream",
     "text": [
      "faculty id: 5\n",
      "faculty name: kumar\n",
      "faculty salary: 25000\n"
     ]
    }
   ],
   "source": [
    "info.show()"
   ]
  },
  {
   "cell_type": "code",
   "execution_count": null,
   "id": "7f995ade-f2f7-4c42-9e51-1de87e5eb497",
   "metadata": {},
   "outputs": [],
   "source": [
    "class animal:\n",
    "    def __init__(self,name):\n",
    "        self.name=name\n",
    "    def speak(self):\n",
    "        return f'(self.name) makes sound'"
   ]
  },
  {
   "cell_type": "markdown",
   "id": "7e012c25-647a-4671-9b6e-c55067e20080",
   "metadata": {},
   "source": [
    "### method overloading"
   ]
  },
  {
   "cell_type": "code",
   "execution_count": 7,
   "id": "1f9b04d7-7fa0-4e25-817f-479b34bb8ad1",
   "metadata": {},
   "outputs": [
    {
     "name": "stdout",
     "output_type": "stream",
     "text": [
      "70\n"
     ]
    }
   ],
   "source": [
    "def add(d,e,f=0):\n",
    "    print(d+e+f)\n",
    "add(20,50)    "
   ]
  },
  {
   "cell_type": "code",
   "execution_count": 15,
   "id": "3579afce-5742-467d-a74e-93346b212aba",
   "metadata": {},
   "outputs": [
    {
     "name": "stdout",
     "output_type": "stream",
     "text": [
      "10\n"
     ]
    }
   ],
   "source": [
    "def mul(d,e,f=1):\n",
    "    print(d*e*f)\n",
    "mul(2,5)"
   ]
  },
  {
   "cell_type": "markdown",
   "id": "613111cb-470b-48b6-b982-cbfe3fe572a3",
   "metadata": {},
   "source": [
    "### method overriding"
   ]
  },
  {
   "cell_type": "code",
   "execution_count": 21,
   "id": "7d00b177-97e9-44ae-8731-509f25e57924",
   "metadata": {},
   "outputs": [
    {
     "name": "stdout",
     "output_type": "stream",
     "text": [
      "some generic sound\n",
      "barks\n",
      "meow\n"
     ]
    }
   ],
   "source": [
    "class Animal:\n",
    "    def sound(kumar):\n",
    "        return 'some generic sound'\n",
    "class Dog:\n",
    "    def sound(kumar):\n",
    "        return 'barks'\n",
    "class Cat:\n",
    "    def sound(kumar):\n",
    "        return 'meow'\n",
    "# creating objects\n",
    "animal=Animal()\n",
    "dog=Dog()\n",
    "cat=Cat()\n",
    "# call mentods\n",
    "print(animal.sound())\n",
    "print(dog.sound())\n",
    "print(cat.sound())\n"
   ]
  },
  {
   "cell_type": "code",
   "execution_count": null,
   "id": "48449433-550f-4ccc-8e61-2898daa49ae6",
   "metadata": {},
   "outputs": [],
   "source": []
  }
 ],
 "metadata": {
  "kernelspec": {
   "display_name": "Python [conda env:base] *",
   "language": "python",
   "name": "conda-base-py"
  },
  "language_info": {
   "codemirror_mode": {
    "name": "ipython",
    "version": 3
   },
   "file_extension": ".py",
   "mimetype": "text/x-python",
   "name": "python",
   "nbconvert_exporter": "python",
   "pygments_lexer": "ipython3",
   "version": "3.12.7"
  }
 },
 "nbformat": 4,
 "nbformat_minor": 5
}
